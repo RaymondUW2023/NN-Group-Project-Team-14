{
  "cells": [
    {
      "cell_type": "code",
      "execution_count": 1,
      "metadata": {
        "id": "dTBQkJ6At3vS"
      },
      "outputs": [],
      "source": [
        "import numpy as np\n",
        "\n",
        "from keras import callbacks"
      ]
    },
    {
      "cell_type": "code",
      "execution_count": 2,
      "metadata": {
        "id": "jR0MGx86nHLE"
      },
      "outputs": [],
      "source": [
        "import tensorflow as tf\n",
        "from keras import datasets, layers, models\n",
        "import matplotlib.pyplot as plt\n",
        "\n",
        "from keras.models import Sequential\n",
        "import keras.optimizers\n",
        "from keras.layers import Conv2D, MaxPooling2D, Dropout, Dense, Flatten, BatchNormalization"
      ]
    },
    {
      "cell_type": "code",
      "source": [
        "from keras.applications import vgg16"
      ],
      "metadata": {
        "id": "orH-49Czzimj"
      },
      "execution_count": 3,
      "outputs": []
    },
    {
      "cell_type": "code",
      "execution_count": 4,
      "metadata": {
        "colab": {
          "base_uri": "https://localhost:8080/"
        },
        "id": "UBNNfLnpnHLH",
        "outputId": "98f86620-8b52-4c25-c03d-bd494ba48a9e"
      },
      "outputs": [
        {
          "output_type": "stream",
          "name": "stdout",
          "text": [
            "(50000, 32, 32, 3)\n",
            "(50000, 1)\n"
          ]
        }
      ],
      "source": [
        "(train_images, train_labels), (test_images, test_labels) = tf.keras.datasets.cifar100.load_data(label_mode='fine')\n",
        "\n",
        "#(train_images, train_labels), (test_images, test_labels) = tf.keras.datasets.cifar10.load_data()\n",
        "\n",
        "# Normalize pixel values to be between 0 and 1\n",
        "#train_images, test_images = train_images / 255.0, test_images / 255.0\n",
        "\n",
        "print(train_images.shape)\n",
        "print(train_labels.shape)"
      ]
    },
    {
      "cell_type": "code",
      "source": [
        "train_images_vgg_mod = tf.keras.applications.vgg16.preprocess_input(train_images, data_format=\"channels_last\")\n",
        "test_images_vgg_mod = tf.keras.applications.vgg16.preprocess_input(test_images, data_format=\"channels_last\")\n"
      ],
      "metadata": {
        "id": "5rd5fE-y-D2u"
      },
      "execution_count": 5,
      "outputs": []
    },
    {
      "cell_type": "code",
      "execution_count": 6,
      "metadata": {
        "colab": {
          "base_uri": "https://localhost:8080/",
          "height": 1000
        },
        "id": "gAHTNt8mnHLH",
        "outputId": "37fa121e-5999-4f1b-9ca7-57dbceb26cd9"
      },
      "outputs": [
        {
          "output_type": "stream",
          "name": "stderr",
          "text": [
            "WARNING:matplotlib.image:Clipping input data to the valid range for imshow with RGB data ([0..1] for floats or [0..255] for integers).\n",
            "WARNING:matplotlib.image:Clipping input data to the valid range for imshow with RGB data ([0..1] for floats or [0..255] for integers).\n",
            "WARNING:matplotlib.image:Clipping input data to the valid range for imshow with RGB data ([0..1] for floats or [0..255] for integers).\n",
            "WARNING:matplotlib.image:Clipping input data to the valid range for imshow with RGB data ([0..1] for floats or [0..255] for integers).\n",
            "WARNING:matplotlib.image:Clipping input data to the valid range for imshow with RGB data ([0..1] for floats or [0..255] for integers).\n",
            "WARNING:matplotlib.image:Clipping input data to the valid range for imshow with RGB data ([0..1] for floats or [0..255] for integers).\n",
            "WARNING:matplotlib.image:Clipping input data to the valid range for imshow with RGB data ([0..1] for floats or [0..255] for integers).\n",
            "WARNING:matplotlib.image:Clipping input data to the valid range for imshow with RGB data ([0..1] for floats or [0..255] for integers).\n",
            "WARNING:matplotlib.image:Clipping input data to the valid range for imshow with RGB data ([0..1] for floats or [0..255] for integers).\n",
            "WARNING:matplotlib.image:Clipping input data to the valid range for imshow with RGB data ([0..1] for floats or [0..255] for integers).\n",
            "WARNING:matplotlib.image:Clipping input data to the valid range for imshow with RGB data ([0..1] for floats or [0..255] for integers).\n",
            "WARNING:matplotlib.image:Clipping input data to the valid range for imshow with RGB data ([0..1] for floats or [0..255] for integers).\n",
            "WARNING:matplotlib.image:Clipping input data to the valid range for imshow with RGB data ([0..1] for floats or [0..255] for integers).\n",
            "WARNING:matplotlib.image:Clipping input data to the valid range for imshow with RGB data ([0..1] for floats or [0..255] for integers).\n",
            "WARNING:matplotlib.image:Clipping input data to the valid range for imshow with RGB data ([0..1] for floats or [0..255] for integers).\n",
            "WARNING:matplotlib.image:Clipping input data to the valid range for imshow with RGB data ([0..1] for floats or [0..255] for integers).\n",
            "WARNING:matplotlib.image:Clipping input data to the valid range for imshow with RGB data ([0..1] for floats or [0..255] for integers).\n",
            "WARNING:matplotlib.image:Clipping input data to the valid range for imshow with RGB data ([0..1] for floats or [0..255] for integers).\n",
            "WARNING:matplotlib.image:Clipping input data to the valid range for imshow with RGB data ([0..1] for floats or [0..255] for integers).\n",
            "WARNING:matplotlib.image:Clipping input data to the valid range for imshow with RGB data ([0..1] for floats or [0..255] for integers).\n",
            "WARNING:matplotlib.image:Clipping input data to the valid range for imshow with RGB data ([0..1] for floats or [0..255] for integers).\n",
            "WARNING:matplotlib.image:Clipping input data to the valid range for imshow with RGB data ([0..1] for floats or [0..255] for integers).\n",
            "WARNING:matplotlib.image:Clipping input data to the valid range for imshow with RGB data ([0..1] for floats or [0..255] for integers).\n",
            "WARNING:matplotlib.image:Clipping input data to the valid range for imshow with RGB data ([0..1] for floats or [0..255] for integers).\n",
            "WARNING:matplotlib.image:Clipping input data to the valid range for imshow with RGB data ([0..1] for floats or [0..255] for integers).\n"
          ]
        },
        {
          "output_type": "display_data",
          "data": {
            "text/plain": [
              "<Figure size 1000x1000 with 25 Axes>"
            ],
            "image/png": "[encoded data removed]"
          },
          "metadata": {}
        }
      ],
      "source": [
        "\n",
        "class_names = ['airplane', 'automobile', 'bird', 'cat', 'deer',\n",
        "               'dog', 'frog', 'horse', 'ship', 'truck']\n",
        "\n",
        "plt.figure(figsize=(10,10))\n",
        "for i in range(25):\n",
        "    plt.subplot(5,5,i+1)\n",
        "    plt.xticks([])\n",
        "    plt.yticks([])\n",
        "    plt.grid(False)\n",
        "    plt.imshow(train_images_vgg_mod[i])\n",
        "    # The CIFAR labels happen to be arrays,\n",
        "    # which is why you need the extra index\n",
        "    #plt.xlabel(class_names[train_labels[i][0]])\n",
        "plt.show()"
      ]
    },
    {
      "cell_type": "code",
      "execution_count": 7,
      "metadata": {
        "colab": {
          "base_uri": "https://localhost:8080/"
        },
        "id": "g1ig7AYanHLI",
        "outputId": "fffc880c-0b1e-44b6-d216-f535adc137a3"
      },
      "outputs": [
        {
          "output_type": "stream",
          "name": "stdout",
          "text": [
            "(50000, 32, 32, 3)\n",
            "(50000, 100)\n"
          ]
        }
      ],
      "source": [
        "train_labels_mod = tf.keras.utils.to_categorical(train_labels, num_classes=100, dtype='int')\n",
        "test_labels_mod = tf.keras.utils.to_categorical(test_labels, num_classes=100, dtype='int')\n",
        "\n",
        "\n",
        "\n",
        "#train_labels = tf.keras.utils.to_categorical(train_labels, num_classes=10, dtype='int')\n",
        "#test_labels = tf.keras.utils.to_categorical(test_labels, num_classes=10, dtype='int')\n",
        "\n",
        "print(train_images.shape)\n",
        "print(train_labels_mod.shape)"
      ]
    },
    {
      "cell_type": "code",
      "source": [
        "print(train_labels_mod.shape)"
      ],
      "metadata": {
        "colab": {
          "base_uri": "https://localhost:8080/"
        },
        "id": "Ki8ECO9uCqpJ",
        "outputId": "6410b90c-5efe-4d35-ce03-5f1b26c42dad"
      },
      "execution_count": 8,
      "outputs": [
        {
          "output_type": "stream",
          "name": "stdout",
          "text": [
            "(50000, 100)\n"
          ]
        }
      ]
    },
    {
      "cell_type": "code",
      "source": [
        "train_labels_mod_reshaped = train_labels_mod.reshape(train_images.shape[0], 1,1,100)\n",
        "test_labels_mod_reshaped = test_labels_mod.reshape(test_images.shape[0], 1,1,100)"
      ],
      "metadata": {
        "id": "lsPthk4aCeyX"
      },
      "execution_count": 9,
      "outputs": []
    },
    {
      "cell_type": "code",
      "execution_count": 10,
      "metadata": {
        "id": "yB0CE01pBLoO"
      },
      "outputs": [],
      "source": [
        "#Creating a dataset for improving training speed performance"
      ]
    },
    {
      "cell_type": "code",
      "execution_count": 11,
      "metadata": {
        "id": "bjbo-N-3wFvt"
      },
      "outputs": [],
      "source": [
        "train_dataset = tf.data.Dataset.from_tensor_slices((train_images_vgg_mod, train_labels_mod_reshaped))"
      ]
    },
    {
      "cell_type": "code",
      "execution_count": 12,
      "metadata": {
        "id": "4OUx6uR7xrQ8"
      },
      "outputs": [],
      "source": [
        "test_dataset = tf.data.Dataset.from_tensor_slices((test_images_vgg_mod, test_labels_mod_reshaped))"
      ]
    },
    {
      "cell_type": "code",
      "execution_count": 13,
      "metadata": {
        "id": "9EzUdo01MRaE"
      },
      "outputs": [],
      "source": [
        "BATCH_SIZE = 100"
      ]
    },
    {
      "cell_type": "code",
      "execution_count": 14,
      "metadata": {
        "id": "hQg7QK0GBJKd"
      },
      "outputs": [],
      "source": [
        "#Batching the data\n",
        "#num_parallel_calls=tf.data.AUTOTUNE"
      ]
    },
    {
      "cell_type": "code",
      "execution_count": 15,
      "metadata": {
        "id": "1CZ9ggV1wz5F"
      },
      "outputs": [],
      "source": [
        "train_dataset_batched = train_dataset.batch(BATCH_SIZE , drop_remainder = True)#, deterministic=False)"
      ]
    },
    {
      "cell_type": "code",
      "execution_count": 16,
      "metadata": {
        "id": "pT-YWABZxxI5"
      },
      "outputs": [],
      "source": [
        "test_dataset_batched = test_dataset.batch(BATCH_SIZE, drop_remainder = True)#, deterministic=False)\n",
        "#Dropping the remainder batch that might be irregular"
      ]
    },
    {
      "cell_type": "code",
      "execution_count": 17,
      "metadata": {
        "colab": {
          "base_uri": "https://localhost:8080/"
        },
        "id": "ZZJHtMe-AHnw",
        "outputId": "e96d1582-ec44-47d4-a918-4f0146cd5d7c"
      },
      "outputs": [
        {
          "output_type": "stream",
          "name": "stdout",
          "text": [
            "<_BatchDataset element_spec=(TensorSpec(shape=(100, 32, 32, 3), dtype=tf.float32, name=None), TensorSpec(shape=(100, 1, 1, 100), dtype=tf.int64, name=None))>\n",
            "<_BatchDataset element_spec=(TensorSpec(shape=(100, 32, 32, 3), dtype=tf.float32, name=None), TensorSpec(shape=(100, 1, 1, 100), dtype=tf.int64, name=None))>\n"
          ]
        }
      ],
      "source": [
        "print(train_dataset_batched)\n",
        "print(test_dataset_batched)"
      ]
    },
    {
      "cell_type": "code",
      "execution_count": 18,
      "metadata": {
        "colab": {
          "base_uri": "https://localhost:8080/",
          "height": 139
        },
        "id": "1veo9Uj_nHLI",
        "outputId": "714ad4ea-965c-4ce7-ec94-612bd7e3f069"
      },
      "outputs": [
        {
          "output_type": "execute_result",
          "data": {
            "text/plain": [
              "'\\nmodel = models.Sequential()\\nmodel.add(Conv2D(64,(3,3), activation=\\'relu\\', padding= \"same\", input_shape = (32,32,3), data_format=\"channels_last\"))#,  strides = 1, kernel_initializer=keras.initializers.HeNormal(seed=None)))\\nmodel.add(Conv2D(64,(3,3), activation=\\'relu\\', padding= \"same\", input_shape = (32,32,3), data_format=\"channels_last\"))#, kernel_initializer=keras.initializers.HeNormal(seed=None)))\\n#model.add(Conv2D(256,(3,3), activation=\\'relu\\', padding= \"same\", input_shape = (32,32,3), data_format=\"channels_last\"))\\n#model.add(BatchNormalization())\\n#model.add(Conv2D(64,(3,3), activation=\\'relu\\', padding= \"same\"))\\n#model.add(BatchNormalization())\\nmodel.add(MaxPooling2D(pool_size=(2,2), strides=2))\\n#model.add(Dropout(rate=0.25))\\n\\nmodel.add(Conv2D(128,(3,3), activation=\\'relu\\', padding= \"same\",   strides = 1))# , kernel_initializer=keras.initializers.HeNormal(seed=None))) #input_shape = (32,32,3)))\\nmodel.add(Conv2D(128,(3,3), activation=\\'relu\\', padding= \"same\",   strides = 1))# , kernel_initializer=keras.initializers.HeNormal(seed=None))) #input_shape = (32,32,3)))\\n\\n#model.add(BatchNormalization())\\n\\n#model.add(Conv2D(128,(3,3), activation=\\'relu\\', padding= \"same\"))\\n#model.add(BatchNormalization())\\nmodel.add(MaxPooling2D(pool_size=(2,2), strides= 2))\\n#model.add(Dropout(rate=0.25))\\n\\nmodel.add(Conv2D(256,(3,3), activation=\\'relu\\', padding= \"same\"))#, kernel_initializer=keras.initializers.HeNormal(seed=None))) # input_shape = (32,32,3)))\\nmodel.add(Conv2D(256,(3,3), activation=\\'relu\\', padding= \"same\"))#, kernel_initializer=keras.initializers.HeNormal(seed=None))) # input_shape = (32,32,3)))\\nmodel.add(Conv2D(256,(3,3), activation=\\'relu\\', padding= \"same\"))#, kernel_initializer=keras.initializers.HeNormal(seed=None))) # input_shape = (32,32,3)))\\nmodel.add(MaxPooling2D(pool_size=(2,2), strides= 2))\\n#model.add(Dropout(rate=0.25))\\n\\nmodel.add(Conv2D(512,(3,3), activation=\\'relu\\', padding= \"same\"))#, kernel_initializer=keras.initializers.HeNormal(seed=None))) # input_shape = (32,32,3)))\\nmodel.add(Conv2D(512,(3,3), activation=\\'relu\\', padding= \"same\"))#, kernel_initializer=keras.initializers.HeNormal(seed=None))) # input_shape = (32,32,3)))\\nmodel.add(Conv2D(512,(3,3), activation=\\'relu\\', padding= \"same\"))#, kernel_initializer=keras.initializers.HeNormal(seed=None))) # input_shape = (32,32,3)))\\nmodel.add(MaxPooling2D(pool_size=(2,2), strides= 2))\\n\\nmodel.add(Flatten())\\n\\nmodel.add(Dense(2048, activation=\\'relu\\'))\\n#model.add(Dropout(0.5))\\nmodel.add(Dense(2048, activation=\\'relu\\'))\\n#model.add(Dropout(0.5))\\n#model.add(Dense(1024, activation=\\'relu\\'))\\n\\n#model.add(Dropout(0.5))\\n#model.add(Dense(512, activation=\\'relu\\'))\\n#model.add(Dropout(0.5))\\nmodel.add(Dense(100, activation=\\'softmax\\'))\\n\\nmodel.summary()\\n\\n'"
            ],
            "application/vnd.google.colaboratory.intrinsic+json": {
              "type": "string"
            }
          },
          "metadata": {},
          "execution_count": 18
        }
      ],
      "source": [
        "'''\n",
        "model = models.Sequential()\n",
        "model.add(Conv2D(64,(3,3), activation='relu', padding= \"same\", input_shape = (32,32,3), data_format=\"channels_last\"))#,  strides = 1, kernel_initializer=keras.initializers.HeNormal(seed=None)))\n",
        "model.add(Conv2D(64,(3,3), activation='relu', padding= \"same\", input_shape = (32,32,3), data_format=\"channels_last\"))#, kernel_initializer=keras.initializers.HeNormal(seed=None)))\n",
        "#model.add(Conv2D(256,(3,3), activation='relu', padding= \"same\", input_shape = (32,32,3), data_format=\"channels_last\"))\n",
        "#model.add(BatchNormalization())\n",
        "#model.add(Conv2D(64,(3,3), activation='relu', padding= \"same\"))\n",
        "#model.add(BatchNormalization())\n",
        "model.add(MaxPooling2D(pool_size=(2,2), strides=2))\n",
        "#model.add(Dropout(rate=0.25))\n",
        "\n",
        "model.add(Conv2D(128,(3,3), activation='relu', padding= \"same\",   strides = 1))# , kernel_initializer=keras.initializers.HeNormal(seed=None))) #input_shape = (32,32,3)))\n",
        "model.add(Conv2D(128,(3,3), activation='relu', padding= \"same\",   strides = 1))# , kernel_initializer=keras.initializers.HeNormal(seed=None))) #input_shape = (32,32,3)))\n",
        "\n",
        "#model.add(BatchNormalization())\n",
        "\n",
        "#model.add(Conv2D(128,(3,3), activation='relu', padding= \"same\"))\n",
        "#model.add(BatchNormalization())\n",
        "model.add(MaxPooling2D(pool_size=(2,2), strides= 2))\n",
        "#model.add(Dropout(rate=0.25))\n",
        "\n",
        "model.add(Conv2D(256,(3,3), activation='relu', padding= \"same\"))#, kernel_initializer=keras.initializers.HeNormal(seed=None))) # input_shape = (32,32,3)))\n",
        "model.add(Conv2D(256,(3,3), activation='relu', padding= \"same\"))#, kernel_initializer=keras.initializers.HeNormal(seed=None))) # input_shape = (32,32,3)))\n",
        "model.add(Conv2D(256,(3,3), activation='relu', padding= \"same\"))#, kernel_initializer=keras.initializers.HeNormal(seed=None))) # input_shape = (32,32,3)))\n",
        "model.add(MaxPooling2D(pool_size=(2,2), strides= 2))\n",
        "#model.add(Dropout(rate=0.25))\n",
        "\n",
        "model.add(Conv2D(512,(3,3), activation='relu', padding= \"same\"))#, kernel_initializer=keras.initializers.HeNormal(seed=None))) # input_shape = (32,32,3)))\n",
        "model.add(Conv2D(512,(3,3), activation='relu', padding= \"same\"))#, kernel_initializer=keras.initializers.HeNormal(seed=None))) # input_shape = (32,32,3)))\n",
        "model.add(Conv2D(512,(3,3), activation='relu', padding= \"same\"))#, kernel_initializer=keras.initializers.HeNormal(seed=None))) # input_shape = (32,32,3)))\n",
        "model.add(MaxPooling2D(pool_size=(2,2), strides= 2))\n",
        "\n",
        "model.add(Flatten())\n",
        "\n",
        "model.add(Dense(2048, activation='relu'))\n",
        "#model.add(Dropout(0.5))\n",
        "model.add(Dense(2048, activation='relu'))\n",
        "#model.add(Dropout(0.5))\n",
        "#model.add(Dense(1024, activation='relu'))\n",
        "\n",
        "#model.add(Dropout(0.5))\n",
        "#model.add(Dense(512, activation='relu'))\n",
        "#model.add(Dropout(0.5))\n",
        "model.add(Dense(100, activation='softmax'))\n",
        "\n",
        "model.summary()\n",
        "\n",
        "'''\n"
      ]
    },
    {
      "cell_type": "code",
      "source": [
        "vgg = vgg16.VGG16(include_top=False, weights = 'imagenet', input_shape = (32,32,3))"
      ],
      "metadata": {
        "id": "iPRVVn59z-uH"
      },
      "execution_count": 19,
      "outputs": []
    },
    {
      "cell_type": "code",
      "source": [
        "vgg.trainable = False"
      ],
      "metadata": {
        "id": "AnQv_Quc_L3q"
      },
      "execution_count": 20,
      "outputs": []
    },
    {
      "cell_type": "code",
      "source": [
        "inputs = keras.Input(shape=(32, 32, 3))"
      ],
      "metadata": {
        "id": "SErpCjEl_eNb"
      },
      "execution_count": 21,
      "outputs": []
    },
    {
      "cell_type": "code",
      "source": [
        "x = vgg(inputs, training = False)"
      ],
      "metadata": {
        "id": "islChP8b_gig"
      },
      "execution_count": 22,
      "outputs": []
    },
    {
      "cell_type": "code",
      "source": [
        "outputs = Dense(2048, activation='relu')(x)\n",
        "outputs = Dropout(0.5)(outputs)\n",
        "outputs = Dense(2048, activation='relu')(outputs)\n",
        "outputs = Dropout(0.5)(outputs)\n",
        "outputs = Dense(1024, activation='relu')(outputs)\n",
        "outputs = Dense(100, activation='softmax')(outputs)"
      ],
      "metadata": {
        "id": "iIGrFz7BAb_F"
      },
      "execution_count": 23,
      "outputs": []
    },
    {
      "cell_type": "code",
      "source": [
        "model = keras.Model(inputs, outputs)"
      ],
      "metadata": {
        "id": "gGHXyFR5A8VD"
      },
      "execution_count": 24,
      "outputs": []
    },
    {
      "cell_type": "code",
      "source": [
        "model.summary(show_trainable=True)"
      ],
      "metadata": {
        "colab": {
          "base_uri": "https://localhost:8080/"
        },
        "id": "_sFqmTRUBGMI",
        "outputId": "223acda3-31b3-4489-b53b-8f59b9fd0213"
      },
      "execution_count": 25,
      "outputs": [
        {
          "output_type": "stream",
          "name": "stdout",
          "text": [
            "Model: \"model\"\n",
            "____________________________________________________________________________\n",
            " Layer (type)                Output Shape              Param #   Trainable  \n",
            "============================================================================\n",
            " input_2 (InputLayer)        [(None, 32, 32, 3)]       0         Y          \n",
            "                                                                            \n",
            " vgg16 (Functional)          (None, 1, 1, 512)         1471468   N          \n",
            "                                                       8                    \n",
            "                                                                            \n",
            " dense (Dense)               (None, 1, 1, 2048)        1050624   Y          \n",
            "                                                                            \n",
            " dropout (Dropout)           (None, 1, 1, 2048)        0         Y          \n",
            "                                                                            \n",
            " dense_1 (Dense)             (None, 1, 1, 2048)        4196352   Y          \n",
            "                                                                            \n",
            " dropout_1 (Dropout)         (None, 1, 1, 2048)        0         Y          \n",
            "                                                                            \n",
            " dense_2 (Dense)             (None, 1, 1, 1024)        2098176   Y          \n",
            "                                                                            \n",
            " dense_3 (Dense)             (None, 1, 1, 100)         102500    Y          \n",
            "                                                                            \n",
            "============================================================================\n",
            "Total params: 22162340 (84.54 MB)\n",
            "Trainable params: 7447652 (28.41 MB)\n",
            "Non-trainable params: 14714688 (56.13 MB)\n",
            "____________________________________________________________________________\n"
          ]
        }
      ]
    },
    {
      "cell_type": "code",
      "execution_count": 26,
      "metadata": {
        "id": "m-3i09Clf5fH"
      },
      "outputs": [],
      "source": [
        "earlystopping = callbacks.EarlyStopping(monitor=\"val_loss\",\n",
        "                                        mode=\"min\", patience=8,\n",
        "                                        restore_best_weights=True)"
      ]
    },
    {
      "cell_type": "markdown",
      "source": [],
      "metadata": {
        "id": "qBAbAVKcxL5h"
      }
    },
    {
      "cell_type": "code",
      "execution_count": 29,
      "metadata": {
        "id": "eZW3hOc_nHLI"
      },
      "outputs": [],
      "source": [
        "opt = keras.optimizers.Adam()#learning_rate=1e-5)# high learning rate - default\n",
        "model.compile(optimizer=opt,\n",
        "              loss=tf.keras.losses.CategoricalCrossentropy(),\n",
        "              metrics=['accuracy'])"
      ]
    },
    {
      "cell_type": "code",
      "execution_count": 30,
      "metadata": {
        "colab": {
          "base_uri": "https://localhost:8080/"
        },
        "id": "iAxlkzBHnHLI",
        "outputId": "57d25656-7e1f-41a4-fb4d-441f6f6da8fa"
      },
      "outputs": [
        {
          "output_type": "stream",
          "name": "stdout",
          "text": [
            "Epoch 1/50\n",
            "500/500 [==============================] - 21s 25ms/step - loss: 3.7241 - accuracy: 0.1966 - val_loss: 2.7639 - val_accuracy: 0.3099\n",
            "Epoch 2/50\n",
            "500/500 [==============================] - 11s 22ms/step - loss: 2.8455 - accuracy: 0.2921 - val_loss: 2.6114 - val_accuracy: 0.3439\n",
            "Epoch 3/50\n",
            "500/500 [==============================] - 12s 24ms/step - loss: 2.6818 - accuracy: 0.3233 - val_loss: 2.5223 - val_accuracy: 0.3584\n",
            "Epoch 4/50\n",
            "500/500 [==============================] - 12s 24ms/step - loss: 2.5821 - accuracy: 0.3409 - val_loss: 2.4971 - val_accuracy: 0.3692\n",
            "Epoch 5/50\n",
            "500/500 [==============================] - 11s 22ms/step - loss: 2.5276 - accuracy: 0.3510 - val_loss: 2.4809 - val_accuracy: 0.3722\n",
            "Epoch 6/50\n",
            "500/500 [==============================] - 12s 25ms/step - loss: 2.4764 - accuracy: 0.3637 - val_loss: 2.4598 - val_accuracy: 0.3835\n",
            "Epoch 7/50\n",
            "500/500 [==============================] - 13s 25ms/step - loss: 2.4290 - accuracy: 0.3724 - val_loss: 2.4631 - val_accuracy: 0.3822\n",
            "Epoch 8/50\n",
            "500/500 [==============================] - 14s 29ms/step - loss: 2.3769 - accuracy: 0.3863 - val_loss: 2.4647 - val_accuracy: 0.3784\n",
            "Epoch 9/50\n",
            "500/500 [==============================] - 11s 22ms/step - loss: 2.3430 - accuracy: 0.3944 - val_loss: 2.4550 - val_accuracy: 0.3899\n",
            "Epoch 10/50\n",
            "500/500 [==============================] - 11s 22ms/step - loss: 2.3127 - accuracy: 0.3993 - val_loss: 2.4515 - val_accuracy: 0.3899\n",
            "Epoch 11/50\n",
            "500/500 [==============================] - 11s 23ms/step - loss: 2.2822 - accuracy: 0.4070 - val_loss: 2.4396 - val_accuracy: 0.3900\n",
            "Epoch 12/50\n",
            "500/500 [==============================] - 12s 25ms/step - loss: 2.2391 - accuracy: 0.4189 - val_loss: 2.4568 - val_accuracy: 0.3939\n",
            "Epoch 13/50\n",
            "500/500 [==============================] - 11s 22ms/step - loss: 2.2092 - accuracy: 0.4197 - val_loss: 2.4654 - val_accuracy: 0.3906\n",
            "Epoch 14/50\n",
            "500/500 [==============================] - 11s 22ms/step - loss: 2.1796 - accuracy: 0.4275 - val_loss: 2.4560 - val_accuracy: 0.3937\n",
            "Epoch 15/50\n",
            "500/500 [==============================] - 11s 22ms/step - loss: 2.1499 - accuracy: 0.4389 - val_loss: 2.4385 - val_accuracy: 0.4024\n",
            "Epoch 16/50\n",
            "500/500 [==============================] - 11s 22ms/step - loss: 2.1136 - accuracy: 0.4454 - val_loss: 2.4351 - val_accuracy: 0.4026\n",
            "Epoch 17/50\n",
            "500/500 [==============================] - 11s 22ms/step - loss: 2.1019 - accuracy: 0.4457 - val_loss: 2.4450 - val_accuracy: 0.4026\n",
            "Epoch 18/50\n",
            "500/500 [==============================] - 11s 22ms/step - loss: 2.0623 - accuracy: 0.4543 - val_loss: 2.4513 - val_accuracy: 0.4061\n",
            "Epoch 19/50\n",
            "500/500 [==============================] - 11s 22ms/step - loss: 2.0325 - accuracy: 0.4629 - val_loss: 2.4481 - val_accuracy: 0.4027\n",
            "Epoch 20/50\n",
            "500/500 [==============================] - 11s 22ms/step - loss: 2.0118 - accuracy: 0.4717 - val_loss: 2.4611 - val_accuracy: 0.4112\n",
            "Epoch 21/50\n",
            "500/500 [==============================] - 11s 22ms/step - loss: 1.9900 - accuracy: 0.4729 - val_loss: 2.4746 - val_accuracy: 0.4051\n",
            "Epoch 22/50\n",
            "500/500 [==============================] - 11s 22ms/step - loss: 1.9678 - accuracy: 0.4791 - val_loss: 2.4801 - val_accuracy: 0.4082\n",
            "Epoch 23/50\n",
            "500/500 [==============================] - 11s 22ms/step - loss: 1.9549 - accuracy: 0.4817 - val_loss: 2.4678 - val_accuracy: 0.4014\n",
            "Epoch 24/50\n",
            "500/500 [==============================] - 11s 23ms/step - loss: 1.9260 - accuracy: 0.4884 - val_loss: 2.4674 - val_accuracy: 0.4066\n"
          ]
        }
      ],
      "source": [
        "history = model.fit(train_dataset_batched, epochs=50, batch_size=BATCH_SIZE, validation_data= test_dataset_batched, callbacks = [earlystopping])"
      ]
    },
    {
      "cell_type": "code",
      "execution_count": 31,
      "metadata": {
        "id": "uEPCeE5UnHLJ",
        "colab": {
          "base_uri": "https://localhost:8080/",
          "height": 486
        },
        "outputId": "e7714371-a9de-44c0-cee6-5769f05f4b4f"
      },
      "outputs": [
        {
          "output_type": "stream",
          "name": "stdout",
          "text": [
            "100/100 - 1s - loss: 2.4351 - accuracy: 0.4026 - 1s/epoch - 14ms/step\n",
            "40.25999903678894\n"
          ]
        },
        {
          "output_type": "display_data",
          "data": {
            "text/plain": [
              "<Figure size 640x480 with 1 Axes>"
            ],
            "image/png": "[encoded data removed]"
          },
          "metadata": {}
        }
      ],
      "source": [
        "plt.plot(history.history['accuracy'], label='accuracy')\n",
        "plt.plot(history.history['val_accuracy'], label = 'val_accuracy')\n",
        "plt.xlabel('Epoch')\n",
        "plt.ylabel('Accuracy')\n",
        "#plt.ylim([0.5, 1])\n",
        "plt.legend(loc='lower right')\n",
        "\n",
        "test_loss, test_acc = model.evaluate(test_dataset_batched, verbose=2)\n",
        "print(test_acc*100)"
      ]
    },
    {
      "cell_type": "code",
      "source": [],
      "metadata": {
        "id": "M1pbpeSDU-BC"
      },
      "execution_count": null,
      "outputs": []
    },
    {
      "cell_type": "markdown",
      "metadata": {
        "id": "Gc4r1m9XOOtO"
      },
      "source": [
        "Batch size = 50, acc = 80, val_acc = 24.2 --> No dropout, basic CNN like that of last report"
      ]
    },
    {
      "cell_type": "code",
      "source": [
        "#!pip install pyyaml h5py"
      ],
      "metadata": {
        "id": "BMzk0ezcpQwS"
      },
      "execution_count": 32,
      "outputs": []
    },
    {
      "cell_type": "code",
      "source": [
        "#!mkdir -p saved_models"
      ],
      "metadata": {
        "id": "8x9vaIQCpqJW"
      },
      "execution_count": 33,
      "outputs": []
    },
    {
      "cell_type": "code",
      "source": [
        "#!cd saved_models/"
      ],
      "metadata": {
        "id": "rGzQMnKSpy5O"
      },
      "execution_count": 34,
      "outputs": []
    },
    {
      "cell_type": "code",
      "source": [
        "#model.save('multi_CNN_batch50_65_45.keras')"
      ],
      "metadata": {
        "id": "LE2NS4Iap1-b"
      },
      "execution_count": 35,
      "outputs": []
    },
    {
      "cell_type": "code",
      "source": [
        "#model.save('multi_CNN_batch50_58_44.keras')"
      ],
      "metadata": {
        "id": "Hsin0weMwi-V"
      },
      "execution_count": 36,
      "outputs": []
    },
    {
      "cell_type": "code",
      "source": [
        "#from google.colab import drive"
      ],
      "metadata": {
        "id": "ir0_2-qxWiQt"
      },
      "execution_count": 44,
      "outputs": []
    },
    {
      "cell_type": "code",
      "source": [
        "#drive.mount('/content/drive')"
      ],
      "metadata": {
        "colab": {
          "base_uri": "https://localhost:8080/"
        },
        "id": "bhsuOSysWwBR",
        "outputId": "9e76c5ad-6721-4eba-bb86-a79b1ef79030"
      },
      "execution_count": 45,
      "outputs": [
        {
          "output_type": "stream",
          "name": "stdout",
          "text": [
            "Mounted at /content/drive\n"
          ]
        }
      ]
    },
    {
      "cell_type": "code",
      "source": [
        "#model.save('/content/drive/My Drive/Saved Models/pre_fine_tuning_VGG_transfer.keras')"
      ],
      "metadata": {
        "id": "nPmqRG25Meve"
      },
      "execution_count": 48,
      "outputs": []
    },
    {
      "cell_type": "code",
      "source": [
        "#!ls"
      ],
      "metadata": {
        "colab": {
          "base_uri": "https://localhost:8080/"
        },
        "id": "HTh8CtPbWEZS",
        "outputId": "409d3412-eaed-4a32-a6f8-2ceb64b57743"
      },
      "execution_count": 41,
      "outputs": [
        {
          "output_type": "stream",
          "name": "stdout",
          "text": [
            "pre_fine_tuning_VGG_transfer.keras  sample_data\n"
          ]
        }
      ]
    },
    {
      "cell_type": "code",
      "source": [
        "vgg.trainable = True"
      ],
      "metadata": {
        "id": "xFbD5SygOvHP"
      },
      "execution_count": 49,
      "outputs": []
    },
    {
      "cell_type": "code",
      "source": [
        "model.summary(show_trainable=True)"
      ],
      "metadata": {
        "colab": {
          "base_uri": "https://localhost:8080/"
        },
        "id": "IT7eHUmpO2WB",
        "outputId": "a861e49c-e736-4cda-9329-ee47d8da1ae6"
      },
      "execution_count": 50,
      "outputs": [
        {
          "output_type": "stream",
          "name": "stdout",
          "text": [
            "Model: \"model\"\n",
            "____________________________________________________________________________\n",
            " Layer (type)                Output Shape              Param #   Trainable  \n",
            "============================================================================\n",
            " input_2 (InputLayer)        [(None, 32, 32, 3)]       0         Y          \n",
            "                                                                            \n",
            " vgg16 (Functional)          (None, 1, 1, 512)         1471468   Y          \n",
            "                                                       8                    \n",
            "                                                                            \n",
            " dense (Dense)               (None, 1, 1, 2048)        1050624   Y          \n",
            "                                                                            \n",
            " dropout (Dropout)           (None, 1, 1, 2048)        0         Y          \n",
            "                                                                            \n",
            " dense_1 (Dense)             (None, 1, 1, 2048)        4196352   Y          \n",
            "                                                                            \n",
            " dropout_1 (Dropout)         (None, 1, 1, 2048)        0         Y          \n",
            "                                                                            \n",
            " dense_2 (Dense)             (None, 1, 1, 1024)        2098176   Y          \n",
            "                                                                            \n",
            " dense_3 (Dense)             (None, 1, 1, 100)         102500    Y          \n",
            "                                                                            \n",
            "============================================================================\n",
            "Total params: 22162340 (84.54 MB)\n",
            "Trainable params: 22162340 (84.54 MB)\n",
            "Non-trainable params: 0 (0.00 Byte)\n",
            "____________________________________________________________________________\n"
          ]
        }
      ]
    },
    {
      "cell_type": "code",
      "source": [
        "opt = keras.optimizers.Adam(learning_rate=1e-5)# high learning rate - default\n",
        "model.compile(optimizer=opt,\n",
        "              loss=tf.keras.losses.CategoricalCrossentropy(),\n",
        "              metrics=['accuracy'])"
      ],
      "metadata": {
        "id": "8ZGlqgdWXgoO"
      },
      "execution_count": 51,
      "outputs": []
    },
    {
      "cell_type": "code",
      "source": [
        "history_2 = model.fit(train_dataset_batched, epochs=100, batch_size=BATCH_SIZE, validation_data= test_dataset_batched, callbacks = [earlystopping])"
      ],
      "metadata": {
        "colab": {
          "base_uri": "https://localhost:8080/"
        },
        "id": "6q-ZcpuJU_Hr",
        "outputId": "084d914c-a886-474e-fcaa-aa1546d5f3ec"
      },
      "execution_count": 52,
      "outputs": [
        {
          "output_type": "stream",
          "name": "stdout",
          "text": [
            "Epoch 1/100\n",
            "500/500 [==============================] - 35s 57ms/step - loss: 2.0238 - accuracy: 0.4613 - val_loss: 2.2894 - val_accuracy: 0.4336\n",
            "Epoch 2/100\n",
            "500/500 [==============================] - 29s 58ms/step - loss: 1.8650 - accuracy: 0.4952 - val_loss: 2.2115 - val_accuracy: 0.4512\n",
            "Epoch 3/100\n",
            "500/500 [==============================] - 29s 58ms/step - loss: 1.7673 - accuracy: 0.5176 - val_loss: 2.1811 - val_accuracy: 0.4575\n",
            "Epoch 4/100\n",
            "500/500 [==============================] - 29s 58ms/step - loss: 1.6682 - accuracy: 0.5358 - val_loss: 2.1223 - val_accuracy: 0.4731\n",
            "Epoch 5/100\n",
            "500/500 [==============================] - 29s 59ms/step - loss: 1.6028 - accuracy: 0.5522 - val_loss: 2.0802 - val_accuracy: 0.4846\n",
            "Epoch 6/100\n",
            "500/500 [==============================] - 31s 61ms/step - loss: 1.5295 - accuracy: 0.5692 - val_loss: 2.0497 - val_accuracy: 0.4903\n",
            "Epoch 7/100\n",
            "500/500 [==============================] - 30s 59ms/step - loss: 1.4713 - accuracy: 0.5824 - val_loss: 2.0454 - val_accuracy: 0.4931\n",
            "Epoch 8/100\n",
            "500/500 [==============================] - 30s 59ms/step - loss: 1.4052 - accuracy: 0.5942 - val_loss: 2.0100 - val_accuracy: 0.5063\n",
            "Epoch 9/100\n",
            "500/500 [==============================] - 30s 59ms/step - loss: 1.3574 - accuracy: 0.6062 - val_loss: 2.0098 - val_accuracy: 0.5092\n",
            "Epoch 10/100\n",
            "500/500 [==============================] - 30s 59ms/step - loss: 1.3118 - accuracy: 0.6186 - val_loss: 1.9848 - val_accuracy: 0.5133\n",
            "Epoch 11/100\n",
            "500/500 [==============================] - 30s 59ms/step - loss: 1.2603 - accuracy: 0.6317 - val_loss: 1.9607 - val_accuracy: 0.5160\n",
            "Epoch 12/100\n",
            "500/500 [==============================] - 30s 59ms/step - loss: 1.2206 - accuracy: 0.6417 - val_loss: 1.9704 - val_accuracy: 0.5179\n",
            "Epoch 13/100\n",
            "500/500 [==============================] - 30s 59ms/step - loss: 1.1763 - accuracy: 0.6525 - val_loss: 1.9559 - val_accuracy: 0.5206\n",
            "Epoch 14/100\n",
            "500/500 [==============================] - 29s 59ms/step - loss: 1.1297 - accuracy: 0.6629 - val_loss: 1.9581 - val_accuracy: 0.5260\n",
            "Epoch 15/100\n",
            "500/500 [==============================] - 30s 59ms/step - loss: 1.1046 - accuracy: 0.6687 - val_loss: 1.9600 - val_accuracy: 0.5282\n",
            "Epoch 16/100\n",
            "500/500 [==============================] - 30s 60ms/step - loss: 1.0625 - accuracy: 0.6779 - val_loss: 1.9423 - val_accuracy: 0.5311\n",
            "Epoch 17/100\n",
            "500/500 [==============================] - 31s 61ms/step - loss: 1.0211 - accuracy: 0.6896 - val_loss: 1.9370 - val_accuracy: 0.5367\n",
            "Epoch 18/100\n",
            "500/500 [==============================] - 29s 59ms/step - loss: 0.9848 - accuracy: 0.7005 - val_loss: 1.9341 - val_accuracy: 0.5319\n",
            "Epoch 19/100\n",
            "500/500 [==============================] - 29s 59ms/step - loss: 0.9522 - accuracy: 0.7087 - val_loss: 1.9321 - val_accuracy: 0.5343\n",
            "Epoch 20/100\n",
            "500/500 [==============================] - 29s 58ms/step - loss: 0.9202 - accuracy: 0.7176 - val_loss: 1.9625 - val_accuracy: 0.5409\n",
            "Epoch 21/100\n",
            "500/500 [==============================] - 29s 59ms/step - loss: 0.8918 - accuracy: 0.7259 - val_loss: 1.9545 - val_accuracy: 0.5430\n",
            "Epoch 22/100\n",
            "500/500 [==============================] - 31s 61ms/step - loss: 0.8585 - accuracy: 0.7331 - val_loss: 1.9676 - val_accuracy: 0.5419\n",
            "Epoch 23/100\n",
            "500/500 [==============================] - 29s 58ms/step - loss: 0.8256 - accuracy: 0.7428 - val_loss: 1.9780 - val_accuracy: 0.5440\n",
            "Epoch 24/100\n",
            "500/500 [==============================] - 29s 58ms/step - loss: 0.8063 - accuracy: 0.7490 - val_loss: 1.9658 - val_accuracy: 0.5428\n",
            "Epoch 25/100\n",
            "500/500 [==============================] - 31s 61ms/step - loss: 0.7739 - accuracy: 0.7574 - val_loss: 1.9788 - val_accuracy: 0.5465\n",
            "Epoch 26/100\n",
            "500/500 [==============================] - 29s 59ms/step - loss: 0.7470 - accuracy: 0.7659 - val_loss: 1.9803 - val_accuracy: 0.5507\n",
            "Epoch 27/100\n",
            "500/500 [==============================] - 29s 59ms/step - loss: 0.7330 - accuracy: 0.7687 - val_loss: 2.0158 - val_accuracy: 0.5466\n"
          ]
        }
      ]
    },
    {
      "cell_type": "code",
      "source": [
        "#model.save('/content/drive/My Drive/Saved Models/post_fine_tuning_VGG_transfer_76_55.keras')"
      ],
      "metadata": {
        "id": "4_p87r44cCzu"
      },
      "execution_count": 53,
      "outputs": []
    }
  ],
  "metadata": {
    "accelerator": "GPU",
    "colab": {
      "provenance": [],
      "gpuType": "T4"
    },
    "kernelspec": {
      "display_name": "Python 3",
      "name": "python3"
    },
    "language_info": {
      "codemirror_mode": {
        "name": "ipython",
        "version": 3
      },
      "file_extension": ".py",
      "mimetype": "text/x-python",
      "name": "python",
      "nbconvert_exporter": "python",
      "pygments_lexer": "ipython3",
      "version": "3.9.13"
    }
  },
  "nbformat": 4,
  "nbformat_minor": 0
}
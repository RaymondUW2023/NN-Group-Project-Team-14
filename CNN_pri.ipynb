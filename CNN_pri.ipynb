{
  "cells": [
    {
      "cell_type": "code",
      "execution_count": 2,
      "metadata": {
        "id": "dTBQkJ6At3vS"
      },
      "outputs": [],
      "source": [
        "import numpy as np\n",
        "\n",
        "from keras import callbacks"
      ]
    },
    {
      "cell_type": "code",
      "execution_count": 3,
      "metadata": {
        "id": "jR0MGx86nHLE"
      },
      "outputs": [],
      "source": [
        "import tensorflow as tf\n",
        "from keras import datasets, layers, models\n",
        "import matplotlib.pyplot as plt\n",
        "\n",
        "from keras.models import Sequential\n",
        "import keras.optimizers\n",
        "from keras.layers import Conv2D, MaxPooling2D, Dropout, Dense, Flatten, BatchNormalization"
      ]
    },
    {
      "cell_type": "code",
      "source": [
        "from keras.applications import vgg16"
      ],
      "metadata": {
        "id": "orH-49Czzimj"
      },
      "execution_count": 4,
      "outputs": []
    },
    {
      "cell_type": "code",
      "execution_count": 27,
      "metadata": {
        "colab": {
          "base_uri": "https://localhost:8080/"
        },
        "id": "UBNNfLnpnHLH",
        "outputId": "1957d352-a3fb-4b74-83c4-bf4f193d40b6"
      },
      "outputs": [
        {
          "output_type": "stream",
          "name": "stdout",
          "text": [
            "Downloading data from https://www.cs.toronto.edu/~kriz/cifar-10-python.tar.gz\n",
            "170498071/170498071 [==============================] - 5s 0us/step\n",
            "(50000, 32, 32, 3)\n",
            "(50000, 1)\n"
          ]
        }
      ],
      "source": [
        "(train_images, train_labels), (test_images, test_labels) = tf.keras.datasets.cifar10.load_data()\n",
        "\n",
        "#(train_images, train_labels), (test_images, test_labels) = tf.keras.datasets.cifar10.load_data()\n",
        "\n",
        "# Normalize pixel values to be between 0 and 1\n",
        "#train_images, test_images = train_images / 255.0, test_images / 255.0\n",
        "\n",
        "print(train_images.shape)\n",
        "print(train_labels.shape)"
      ]
    },
    {
      "cell_type": "code",
      "source": [
        "train_images_vgg_mod = tf.keras.applications.vgg16.preprocess_input(train_images, data_format=\"channels_last\")\n",
        "test_images_vgg_mod = tf.keras.applications.vgg16.preprocess_input(test_images, data_format=\"channels_last\")\n"
      ],
      "metadata": {
        "id": "5rd5fE-y-D2u"
      },
      "execution_count": 28,
      "outputs": []
    },
    {
      "cell_type": "code",
      "execution_count": 30,
      "metadata": {
        "colab": {
          "base_uri": "https://localhost:8080/",
          "height": 1000
        },
        "id": "gAHTNt8mnHLH",
        "outputId": "3ca23ff5-4755-4911-ce5a-ea952e6c323a"
      },
      "outputs": [
        {
          "output_type": "stream",
          "name": "stderr",
          "text": [
            "WARNING:matplotlib.image:Clipping input data to the valid range for imshow with RGB data ([0..1] for floats or [0..255] for integers).\n",
            "WARNING:matplotlib.image:Clipping input data to the valid range for imshow with RGB data ([0..1] for floats or [0..255] for integers).\n",
            "WARNING:matplotlib.image:Clipping input data to the valid range for imshow with RGB data ([0..1] for floats or [0..255] for integers).\n",
            "WARNING:matplotlib.image:Clipping input data to the valid range for imshow with RGB data ([0..1] for floats or [0..255] for integers).\n",
            "WARNING:matplotlib.image:Clipping input data to the valid range for imshow with RGB data ([0..1] for floats or [0..255] for integers).\n",
            "WARNING:matplotlib.image:Clipping input data to the valid range for imshow with RGB data ([0..1] for floats or [0..255] for integers).\n",
            "WARNING:matplotlib.image:Clipping input data to the valid range for imshow with RGB data ([0..1] for floats or [0..255] for integers).\n",
            "WARNING:matplotlib.image:Clipping input data to the valid range for imshow with RGB data ([0..1] for floats or [0..255] for integers).\n",
            "WARNING:matplotlib.image:Clipping input data to the valid range for imshow with RGB data ([0..1] for floats or [0..255] for integers).\n",
            "WARNING:matplotlib.image:Clipping input data to the valid range for imshow with RGB data ([0..1] for floats or [0..255] for integers).\n",
            "WARNING:matplotlib.image:Clipping input data to the valid range for imshow with RGB data ([0..1] for floats or [0..255] for integers).\n",
            "WARNING:matplotlib.image:Clipping input data to the valid range for imshow with RGB data ([0..1] for floats or [0..255] for integers).\n",
            "WARNING:matplotlib.image:Clipping input data to the valid range for imshow with RGB data ([0..1] for floats or [0..255] for integers).\n",
            "WARNING:matplotlib.image:Clipping input data to the valid range for imshow with RGB data ([0..1] for floats or [0..255] for integers).\n",
            "WARNING:matplotlib.image:Clipping input data to the valid range for imshow with RGB data ([0..1] for floats or [0..255] for integers).\n",
            "WARNING:matplotlib.image:Clipping input data to the valid range for imshow with RGB data ([0..1] for floats or [0..255] for integers).\n",
            "WARNING:matplotlib.image:Clipping input data to the valid range for imshow with RGB data ([0..1] for floats or [0..255] for integers).\n",
            "WARNING:matplotlib.image:Clipping input data to the valid range for imshow with RGB data ([0..1] for floats or [0..255] for integers).\n",
            "WARNING:matplotlib.image:Clipping input data to the valid range for imshow with RGB data ([0..1] for floats or [0..255] for integers).\n",
            "WARNING:matplotlib.image:Clipping input data to the valid range for imshow with RGB data ([0..1] for floats or [0..255] for integers).\n",
            "WARNING:matplotlib.image:Clipping input data to the valid range for imshow with RGB data ([0..1] for floats or [0..255] for integers).\n",
            "WARNING:matplotlib.image:Clipping input data to the valid range for imshow with RGB data ([0..1] for floats or [0..255] for integers).\n",
            "WARNING:matplotlib.image:Clipping input data to the valid range for imshow with RGB data ([0..1] for floats or [0..255] for integers).\n",
            "WARNING:matplotlib.image:Clipping input data to the valid range for imshow with RGB data ([0..1] for floats or [0..255] for integers).\n",
            "WARNING:matplotlib.image:Clipping input data to the valid range for imshow with RGB data ([0..1] for floats or [0..255] for integers).\n"
          ]
        },
        {
          "output_type": "display_data",
          "data": {
            "text/plain": [
              "<Figure size 1000x1000 with 25 Axes>"
            ],
            "image/png": "[encoded data removed]"
          },
          "metadata": {}
        }
      ],
      "source": [
        "\n",
        "class_names = ['airplane', 'automobile', 'bird', 'cat', 'deer',\n",
        "               'dog', 'frog', 'horse', 'ship', 'truck']\n",
        "\n",
        "plt.figure(figsize=(10,10))\n",
        "for i in range(25):\n",
        "    plt.subplot(5,5,i+1)\n",
        "    plt.xticks([])\n",
        "    plt.yticks([])\n",
        "    plt.grid(False)\n",
        "    plt.imshow(train_images_vgg_mod[i])\n",
        "    # The CIFAR labels happen to be arrays,\n",
        "    # which is why you need the extra index\n",
        "    plt.xlabel(class_names[train_labels[i][0]])\n",
        "plt.show()"
      ]
    },
    {
      "cell_type": "code",
      "execution_count": 31,
      "metadata": {
        "colab": {
          "base_uri": "https://localhost:8080/"
        },
        "id": "g1ig7AYanHLI",
        "outputId": "fce20b2d-5b83-4ffb-8fad-f23ce0733f7b"
      },
      "outputs": [
        {
          "output_type": "stream",
          "name": "stdout",
          "text": [
            "(50000, 32, 32, 3)\n",
            "(50000, 10)\n"
          ]
        }
      ],
      "source": [
        "#train_labels_mod = tf.keras.utils.to_categorical(train_labels, num_classes=100, dtype='int')\n",
        "#test_labels_mod = tf.keras.utils.to_categorical(test_labels, num_classes=100, dtype='int')\n",
        "\n",
        "\n",
        "\n",
        "train_labels_mod = tf.keras.utils.to_categorical(train_labels, num_classes=10, dtype='int')\n",
        "test_labels_mod = tf.keras.utils.to_categorical(test_labels, num_classes=10, dtype='int')\n",
        "\n",
        "print(train_images.shape)\n",
        "print(train_labels_mod.shape)"
      ]
    },
    {
      "cell_type": "code",
      "source": [
        "print(train_labels_mod.shape)"
      ],
      "metadata": {
        "colab": {
          "base_uri": "https://localhost:8080/"
        },
        "id": "Ki8ECO9uCqpJ",
        "outputId": "3ad4ceb7-d6f0-49c8-ac96-14d810eae39a"
      },
      "execution_count": 32,
      "outputs": [
        {
          "output_type": "stream",
          "name": "stdout",
          "text": [
            "(50000, 10)\n"
          ]
        }
      ]
    },
    {
      "cell_type": "code",
      "source": [
        "#train_labels_mod_reshaped = train_labels_mod.reshape(train_images.shape[0], 1,1,100)\n",
        "#test_labels_mod_reshaped = test_labels_mod.reshape(test_images.shape[0], 1,1,100)\n",
        "\n",
        "train_labels_mod_reshaped = train_labels_mod.reshape(train_images.shape[0], 1,1,10)\n",
        "test_labels_mod_reshaped = test_labels_mod.reshape(test_images.shape[0], 1,1,10)"
      ],
      "metadata": {
        "id": "lsPthk4aCeyX"
      },
      "execution_count": 33,
      "outputs": []
    },
    {
      "cell_type": "code",
      "execution_count": 10,
      "metadata": {
        "id": "yB0CE01pBLoO"
      },
      "outputs": [],
      "source": [
        "#Creating a dataset for improving training speed performance"
      ]
    },
    {
      "cell_type": "code",
      "execution_count": 34,
      "metadata": {
        "id": "bjbo-N-3wFvt"
      },
      "outputs": [],
      "source": [
        "train_dataset = tf.data.Dataset.from_tensor_slices((train_images_vgg_mod, train_labels_mod_reshaped))"
      ]
    },
    {
      "cell_type": "code",
      "execution_count": 35,
      "metadata": {
        "id": "4OUx6uR7xrQ8"
      },
      "outputs": [],
      "source": [
        "test_dataset = tf.data.Dataset.from_tensor_slices((test_images_vgg_mod, test_labels_mod_reshaped))"
      ]
    },
    {
      "cell_type": "code",
      "execution_count": 36,
      "metadata": {
        "id": "9EzUdo01MRaE"
      },
      "outputs": [],
      "source": [
        "BATCH_SIZE = 200"
      ]
    },
    {
      "cell_type": "code",
      "execution_count": 14,
      "metadata": {
        "id": "hQg7QK0GBJKd"
      },
      "outputs": [],
      "source": [
        "#Batching the data\n",
        "#num_parallel_calls=tf.data.AUTOTUNE"
      ]
    },
    {
      "cell_type": "code",
      "execution_count": 37,
      "metadata": {
        "id": "1CZ9ggV1wz5F"
      },
      "outputs": [],
      "source": [
        "train_dataset_batched = train_dataset.batch(BATCH_SIZE , drop_remainder = True, num_parallel_calls=tf.data.AUTOTUNE, deterministic=False)"
      ]
    },
    {
      "cell_type": "code",
      "execution_count": 38,
      "metadata": {
        "id": "pT-YWABZxxI5"
      },
      "outputs": [],
      "source": [
        "test_dataset_batched = test_dataset.batch(BATCH_SIZE, drop_remainder = True, num_parallel_calls=tf.data.AUTOTUNE, deterministic=False)\n",
        "#Dropping the remainder batch that might be irregular"
      ]
    },
    {
      "cell_type": "code",
      "execution_count": 39,
      "metadata": {
        "colab": {
          "base_uri": "https://localhost:8080/"
        },
        "id": "ZZJHtMe-AHnw",
        "outputId": "d370484a-8e03-48c6-c94d-1e2a82bd82d3"
      },
      "outputs": [
        {
          "output_type": "stream",
          "name": "stdout",
          "text": [
            "<_ParallelBatchDataset element_spec=(TensorSpec(shape=(200, 32, 32, 3), dtype=tf.float32, name=None), TensorSpec(shape=(200, 1, 1, 10), dtype=tf.int64, name=None))>\n",
            "<_ParallelBatchDataset element_spec=(TensorSpec(shape=(200, 32, 32, 3), dtype=tf.float32, name=None), TensorSpec(shape=(200, 1, 1, 10), dtype=tf.int64, name=None))>\n"
          ]
        }
      ],
      "source": [
        "print(train_dataset_batched)\n",
        "print(test_dataset_batched)"
      ]
    },
    {
      "cell_type": "code",
      "execution_count": 18,
      "metadata": {
        "colab": {
          "base_uri": "https://localhost:8080/",
          "height": 139
        },
        "id": "1veo9Uj_nHLI",
        "outputId": "714ad4ea-965c-4ce7-ec94-612bd7e3f069"
      },
      "outputs": [
        {
          "output_type": "execute_result",
          "data": {
            "text/plain": [
              "'\\nmodel = models.Sequential()\\nmodel.add(Conv2D(64,(3,3), activation=\\'relu\\', padding= \"same\", input_shape = (32,32,3), data_format=\"channels_last\"))#,  strides = 1, kernel_initializer=keras.initializers.HeNormal(seed=None)))\\nmodel.add(Conv2D(64,(3,3), activation=\\'relu\\', padding= \"same\", input_shape = (32,32,3), data_format=\"channels_last\"))#, kernel_initializer=keras.initializers.HeNormal(seed=None)))\\n#model.add(Conv2D(256,(3,3), activation=\\'relu\\', padding= \"same\", input_shape = (32,32,3), data_format=\"channels_last\"))\\n#model.add(BatchNormalization())\\n#model.add(Conv2D(64,(3,3), activation=\\'relu\\', padding= \"same\"))\\n#model.add(BatchNormalization())\\nmodel.add(MaxPooling2D(pool_size=(2,2), strides=2))\\n#model.add(Dropout(rate=0.25))\\n\\nmodel.add(Conv2D(128,(3,3), activation=\\'relu\\', padding= \"same\",   strides = 1))# , kernel_initializer=keras.initializers.HeNormal(seed=None))) #input_shape = (32,32,3)))\\nmodel.add(Conv2D(128,(3,3), activation=\\'relu\\', padding= \"same\",   strides = 1))# , kernel_initializer=keras.initializers.HeNormal(seed=None))) #input_shape = (32,32,3)))\\n\\n#model.add(BatchNormalization())\\n\\n#model.add(Conv2D(128,(3,3), activation=\\'relu\\', padding= \"same\"))\\n#model.add(BatchNormalization())\\nmodel.add(MaxPooling2D(pool_size=(2,2), strides= 2))\\n#model.add(Dropout(rate=0.25))\\n\\nmodel.add(Conv2D(256,(3,3), activation=\\'relu\\', padding= \"same\"))#, kernel_initializer=keras.initializers.HeNormal(seed=None))) # input_shape = (32,32,3)))\\nmodel.add(Conv2D(256,(3,3), activation=\\'relu\\', padding= \"same\"))#, kernel_initializer=keras.initializers.HeNormal(seed=None))) # input_shape = (32,32,3)))\\nmodel.add(Conv2D(256,(3,3), activation=\\'relu\\', padding= \"same\"))#, kernel_initializer=keras.initializers.HeNormal(seed=None))) # input_shape = (32,32,3)))\\nmodel.add(MaxPooling2D(pool_size=(2,2), strides= 2))\\n#model.add(Dropout(rate=0.25))\\n\\nmodel.add(Conv2D(512,(3,3), activation=\\'relu\\', padding= \"same\"))#, kernel_initializer=keras.initializers.HeNormal(seed=None))) # input_shape = (32,32,3)))\\nmodel.add(Conv2D(512,(3,3), activation=\\'relu\\', padding= \"same\"))#, kernel_initializer=keras.initializers.HeNormal(seed=None))) # input_shape = (32,32,3)))\\nmodel.add(Conv2D(512,(3,3), activation=\\'relu\\', padding= \"same\"))#, kernel_initializer=keras.initializers.HeNormal(seed=None))) # input_shape = (32,32,3)))\\nmodel.add(MaxPooling2D(pool_size=(2,2), strides= 2))\\n\\nmodel.add(Flatten())\\n\\nmodel.add(Dense(2048, activation=\\'relu\\'))\\n#model.add(Dropout(0.5))\\nmodel.add(Dense(2048, activation=\\'relu\\'))\\n#model.add(Dropout(0.5))\\n#model.add(Dense(1024, activation=\\'relu\\'))\\n\\n#model.add(Dropout(0.5))\\n#model.add(Dense(512, activation=\\'relu\\'))\\n#model.add(Dropout(0.5))\\nmodel.add(Dense(100, activation=\\'softmax\\'))\\n\\nmodel.summary()\\n\\n'"
            ],
            "application/vnd.google.colaboratory.intrinsic+json": {
              "type": "string"
            }
          },
          "metadata": {},
          "execution_count": 18
        }
      ],
      "source": [
        "'''\n",
        "model = models.Sequential()\n",
        "model.add(Conv2D(64,(3,3), activation='relu', padding= \"same\", input_shape = (32,32,3), data_format=\"channels_last\"))#,  strides = 1, kernel_initializer=keras.initializers.HeNormal(seed=None)))\n",
        "model.add(Conv2D(64,(3,3), activation='relu', padding= \"same\", input_shape = (32,32,3), data_format=\"channels_last\"))#, kernel_initializer=keras.initializers.HeNormal(seed=None)))\n",
        "#model.add(Conv2D(256,(3,3), activation='relu', padding= \"same\", input_shape = (32,32,3), data_format=\"channels_last\"))\n",
        "#model.add(BatchNormalization())\n",
        "#model.add(Conv2D(64,(3,3), activation='relu', padding= \"same\"))\n",
        "#model.add(BatchNormalization())\n",
        "model.add(MaxPooling2D(pool_size=(2,2), strides=2))\n",
        "#model.add(Dropout(rate=0.25))\n",
        "\n",
        "model.add(Conv2D(128,(3,3), activation='relu', padding= \"same\",   strides = 1))# , kernel_initializer=keras.initializers.HeNormal(seed=None))) #input_shape = (32,32,3)))\n",
        "model.add(Conv2D(128,(3,3), activation='relu', padding= \"same\",   strides = 1))# , kernel_initializer=keras.initializers.HeNormal(seed=None))) #input_shape = (32,32,3)))\n",
        "\n",
        "#model.add(BatchNormalization())\n",
        "\n",
        "#model.add(Conv2D(128,(3,3), activation='relu', padding= \"same\"))\n",
        "#model.add(BatchNormalization())\n",
        "model.add(MaxPooling2D(pool_size=(2,2), strides= 2))\n",
        "#model.add(Dropout(rate=0.25))\n",
        "\n",
        "model.add(Conv2D(256,(3,3), activation='relu', padding= \"same\"))#, kernel_initializer=keras.initializers.HeNormal(seed=None))) # input_shape = (32,32,3)))\n",
        "model.add(Conv2D(256,(3,3), activation='relu', padding= \"same\"))#, kernel_initializer=keras.initializers.HeNormal(seed=None))) # input_shape = (32,32,3)))\n",
        "model.add(Conv2D(256,(3,3), activation='relu', padding= \"same\"))#, kernel_initializer=keras.initializers.HeNormal(seed=None))) # input_shape = (32,32,3)))\n",
        "model.add(MaxPooling2D(pool_size=(2,2), strides= 2))\n",
        "#model.add(Dropout(rate=0.25))\n",
        "\n",
        "model.add(Conv2D(512,(3,3), activation='relu', padding= \"same\"))#, kernel_initializer=keras.initializers.HeNormal(seed=None))) # input_shape = (32,32,3)))\n",
        "model.add(Conv2D(512,(3,3), activation='relu', padding= \"same\"))#, kernel_initializer=keras.initializers.HeNormal(seed=None))) # input_shape = (32,32,3)))\n",
        "model.add(Conv2D(512,(3,3), activation='relu', padding= \"same\"))#, kernel_initializer=keras.initializers.HeNormal(seed=None))) # input_shape = (32,32,3)))\n",
        "model.add(MaxPooling2D(pool_size=(2,2), strides= 2))\n",
        "\n",
        "model.add(Flatten())\n",
        "\n",
        "model.add(Dense(2048, activation='relu'))\n",
        "#model.add(Dropout(0.5))\n",
        "model.add(Dense(2048, activation='relu'))\n",
        "#model.add(Dropout(0.5))\n",
        "#model.add(Dense(1024, activation='relu'))\n",
        "\n",
        "#model.add(Dropout(0.5))\n",
        "#model.add(Dense(512, activation='relu'))\n",
        "#model.add(Dropout(0.5))\n",
        "model.add(Dense(100, activation='softmax'))\n",
        "\n",
        "model.summary()\n",
        "\n",
        "'''\n"
      ]
    },
    {
      "cell_type": "code",
      "source": [
        "vgg = vgg16.VGG16(include_top=False, weights = 'imagenet', input_shape = (32,32,3))"
      ],
      "metadata": {
        "colab": {
          "base_uri": "https://localhost:8080/"
        },
        "id": "iPRVVn59z-uH",
        "outputId": "3957b291-5eb9-4314-dcab-3628441f1f01"
      },
      "execution_count": 40,
      "outputs": [
        {
          "output_type": "stream",
          "name": "stdout",
          "text": [
            "Downloading data from https://storage.googleapis.com/tensorflow/keras-applications/vgg16/vgg16_weights_tf_dim_ordering_tf_kernels_notop.h5\n",
            "58889256/58889256 [==============================] - 0s 0us/step\n"
          ]
        }
      ]
    },
    {
      "cell_type": "code",
      "source": [
        "vgg.trainable = False"
      ],
      "metadata": {
        "id": "AnQv_Quc_L3q"
      },
      "execution_count": 41,
      "outputs": []
    },
    {
      "cell_type": "code",
      "source": [
        "inputs = keras.Input(shape=(32, 32, 3))"
      ],
      "metadata": {
        "id": "SErpCjEl_eNb"
      },
      "execution_count": 42,
      "outputs": []
    },
    {
      "cell_type": "code",
      "source": [
        "x = vgg(inputs, training = False)"
      ],
      "metadata": {
        "id": "islChP8b_gig"
      },
      "execution_count": 43,
      "outputs": []
    },
    {
      "cell_type": "code",
      "source": [
        "#outputs = Dense(2048, activation='relu')(x)\n",
        "#outputs = Dropout(0.5)(outputs)\n",
        "#outputs = Dense(2048, activation='relu')(outputs)\n",
        "#outputs = Dropout(0.5)(outputs)\n",
        "#outputs = Dense(1024, activation='relu')(outputs)\n",
        "#outputs = Dense(100, activation='softmax')(outputs)\n",
        "\n",
        "outputs = Dense(2048, activation='relu')(x)\n",
        "outputs = Dropout(0.5)(outputs)\n",
        "outputs = Dense(2048, activation='relu')(outputs)\n",
        "outputs = Dropout(0.5)(outputs)\n",
        "outputs = Dense(1024, activation='relu')(outputs)\n",
        "outputs = Dense(10, activation='softmax')(outputs)"
      ],
      "metadata": {
        "id": "iIGrFz7BAb_F"
      },
      "execution_count": 47,
      "outputs": []
    },
    {
      "cell_type": "code",
      "source": [
        "model = keras.Model(inputs, outputs)"
      ],
      "metadata": {
        "id": "gGHXyFR5A8VD"
      },
      "execution_count": 48,
      "outputs": []
    },
    {
      "cell_type": "code",
      "source": [
        "model.summary(show_trainable=True)"
      ],
      "metadata": {
        "colab": {
          "base_uri": "https://localhost:8080/"
        },
        "id": "_sFqmTRUBGMI",
        "outputId": "d5074067-2f23-4b7f-bdda-1387279de275"
      },
      "execution_count": 49,
      "outputs": [
        {
          "output_type": "stream",
          "name": "stdout",
          "text": [
            "Model: \"model_1\"\n",
            "____________________________________________________________________________\n",
            " Layer (type)                Output Shape              Param #   Trainable  \n",
            "============================================================================\n",
            " input_2 (InputLayer)        [(None, 32, 32, 3)]       0         Y          \n",
            "                                                                            \n",
            " vgg16 (Functional)          (None, 1, 1, 512)         1471468   N          \n",
            "                                                       8                    \n",
            "                                                                            \n",
            " dense_4 (Dense)             (None, 1, 1, 2048)        1050624   Y          \n",
            "                                                                            \n",
            " dropout_2 (Dropout)         (None, 1, 1, 2048)        0         Y          \n",
            "                                                                            \n",
            " dense_5 (Dense)             (None, 1, 1, 2048)        4196352   Y          \n",
            "                                                                            \n",
            " dropout_3 (Dropout)         (None, 1, 1, 2048)        0         Y          \n",
            "                                                                            \n",
            " dense_6 (Dense)             (None, 1, 1, 1024)        2098176   Y          \n",
            "                                                                            \n",
            " dense_7 (Dense)             (None, 1, 1, 10)          10250     Y          \n",
            "                                                                            \n",
            "============================================================================\n",
            "Total params: 22070090 (84.19 MB)\n",
            "Trainable params: 7355402 (28.06 MB)\n",
            "Non-trainable params: 14714688 (56.13 MB)\n",
            "____________________________________________________________________________\n"
          ]
        }
      ]
    },
    {
      "cell_type": "code",
      "execution_count": 50,
      "metadata": {
        "id": "m-3i09Clf5fH"
      },
      "outputs": [],
      "source": [
        "earlystopping = callbacks.EarlyStopping(monitor=\"val_loss\",\n",
        "                                        mode=\"min\", patience=10,\n",
        "                                        restore_best_weights=True)"
      ]
    },
    {
      "cell_type": "markdown",
      "source": [],
      "metadata": {
        "id": "qBAbAVKcxL5h"
      }
    },
    {
      "cell_type": "code",
      "execution_count": 51,
      "metadata": {
        "id": "eZW3hOc_nHLI"
      },
      "outputs": [],
      "source": [
        "opt = keras.optimizers.Adam()#learning_rate=1e-5)# high learning rate - default\n",
        "model.compile(optimizer=opt,\n",
        "              loss=tf.keras.losses.CategoricalCrossentropy(),\n",
        "              metrics=['accuracy'])"
      ]
    },
    {
      "cell_type": "code",
      "execution_count": 52,
      "metadata": {
        "colab": {
          "base_uri": "https://localhost:8080/"
        },
        "id": "iAxlkzBHnHLI",
        "outputId": "632efbca-f426-4318-ebac-b4eef882f357"
      },
      "outputs": [
        {
          "output_type": "stream",
          "name": "stdout",
          "text": [
            "Epoch 1/50\n",
            "250/250 [==============================] - 12s 36ms/step - loss: 2.2106 - accuracy: 0.5114 - val_loss: 1.1051 - val_accuracy: 0.6297\n",
            "Epoch 2/50\n",
            "250/250 [==============================] - 9s 35ms/step - loss: 1.1189 - accuracy: 0.6164 - val_loss: 1.0392 - val_accuracy: 0.6515\n",
            "Epoch 3/50\n",
            "250/250 [==============================] - 9s 35ms/step - loss: 1.0172 - accuracy: 0.6484 - val_loss: 0.9803 - val_accuracy: 0.6674\n",
            "Epoch 4/50\n",
            "250/250 [==============================] - 8s 34ms/step - loss: 0.9511 - accuracy: 0.6713 - val_loss: 0.9546 - val_accuracy: 0.6773\n",
            "Epoch 5/50\n",
            "250/250 [==============================] - 9s 35ms/step - loss: 0.8977 - accuracy: 0.6875 - val_loss: 0.9414 - val_accuracy: 0.6800\n",
            "Epoch 6/50\n",
            "250/250 [==============================] - 9s 35ms/step - loss: 0.8508 - accuracy: 0.7017 - val_loss: 0.9299 - val_accuracy: 0.6803\n",
            "Epoch 7/50\n",
            "250/250 [==============================] - 9s 37ms/step - loss: 0.8040 - accuracy: 0.7185 - val_loss: 0.9272 - val_accuracy: 0.6850\n",
            "Epoch 8/50\n",
            "250/250 [==============================] - 9s 35ms/step - loss: 0.7688 - accuracy: 0.7311 - val_loss: 0.9245 - val_accuracy: 0.6891\n",
            "Epoch 9/50\n",
            "250/250 [==============================] - 9s 35ms/step - loss: 0.7253 - accuracy: 0.7434 - val_loss: 0.9233 - val_accuracy: 0.6921\n",
            "Epoch 10/50\n",
            "250/250 [==============================] - 9s 36ms/step - loss: 0.6895 - accuracy: 0.7553 - val_loss: 0.9265 - val_accuracy: 0.6905\n",
            "Epoch 11/50\n",
            "250/250 [==============================] - 9s 35ms/step - loss: 0.6622 - accuracy: 0.7635 - val_loss: 0.9251 - val_accuracy: 0.6916\n",
            "Epoch 12/50\n",
            "250/250 [==============================] - 9s 36ms/step - loss: 0.6262 - accuracy: 0.7768 - val_loss: 0.9503 - val_accuracy: 0.6916\n",
            "Epoch 13/50\n",
            "250/250 [==============================] - 9s 35ms/step - loss: 0.6030 - accuracy: 0.7848 - val_loss: 0.9507 - val_accuracy: 0.6908\n",
            "Epoch 14/50\n",
            "250/250 [==============================] - 9s 36ms/step - loss: 0.5714 - accuracy: 0.7959 - val_loss: 0.9450 - val_accuracy: 0.6932\n",
            "Epoch 15/50\n",
            "250/250 [==============================] - 9s 35ms/step - loss: 0.5455 - accuracy: 0.8063 - val_loss: 0.9790 - val_accuracy: 0.6908\n",
            "Epoch 16/50\n",
            "250/250 [==============================] - 9s 36ms/step - loss: 0.5152 - accuracy: 0.8161 - val_loss: 0.9797 - val_accuracy: 0.6902\n",
            "Epoch 17/50\n",
            "250/250 [==============================] - 9s 36ms/step - loss: 0.4950 - accuracy: 0.8245 - val_loss: 1.0024 - val_accuracy: 0.6905\n",
            "Epoch 18/50\n",
            "250/250 [==============================] - 9s 36ms/step - loss: 0.4737 - accuracy: 0.8316 - val_loss: 1.0126 - val_accuracy: 0.6904\n",
            "Epoch 19/50\n",
            "250/250 [==============================] - 9s 37ms/step - loss: 0.4567 - accuracy: 0.8392 - val_loss: 1.0148 - val_accuracy: 0.6870\n"
          ]
        }
      ],
      "source": [
        "history = model.fit(train_dataset_batched, epochs=50, batch_size=BATCH_SIZE, validation_data= test_dataset_batched, callbacks = [earlystopping])"
      ]
    },
    {
      "cell_type": "code",
      "execution_count": 53,
      "metadata": {
        "id": "uEPCeE5UnHLJ",
        "colab": {
          "base_uri": "https://localhost:8080/",
          "height": 484
        },
        "outputId": "cd08b16d-c5e8-4553-ff41-8eb17a500795"
      },
      "outputs": [
        {
          "output_type": "stream",
          "name": "stdout",
          "text": [
            "50/50 - 1s - loss: 0.9233 - accuracy: 0.6921 - 1s/epoch - 24ms/step\n",
            "69.20999884605408\n"
          ]
        },
        {
          "output_type": "display_data",
          "data": {
            "text/plain": [
              "<Figure size 640x480 with 1 Axes>"
            ],
            "image/png": "[encoded data removed]"
          },
          "metadata": {}
        }
      ],
      "source": [
        "plt.plot(history.history['accuracy'], label='accuracy')\n",
        "plt.plot(history.history['val_accuracy'], label = 'val_accuracy')\n",
        "plt.xlabel('Epoch')\n",
        "plt.ylabel('Accuracy')\n",
        "#plt.ylim([0.5, 1])\n",
        "plt.legend(loc='lower right')\n",
        "\n",
        "test_loss, test_acc = model.evaluate(test_dataset_batched, verbose=2)\n",
        "print(test_acc*100)"
      ]
    },
    {
      "cell_type": "code",
      "source": [],
      "metadata": {
        "id": "M1pbpeSDU-BC"
      },
      "execution_count": null,
      "outputs": []
    },
    {
      "cell_type": "markdown",
      "metadata": {
        "id": "Gc4r1m9XOOtO"
      },
      "source": [
        "Batch size = 50, acc = 80, val_acc = 24.2 --> No dropout, basic CNN like that of last report"
      ]
    },
    {
      "cell_type": "code",
      "source": [
        "#!pip install pyyaml h5py"
      ],
      "metadata": {
        "id": "BMzk0ezcpQwS"
      },
      "execution_count": 32,
      "outputs": []
    },
    {
      "cell_type": "code",
      "source": [
        "#!mkdir -p saved_models"
      ],
      "metadata": {
        "id": "8x9vaIQCpqJW"
      },
      "execution_count": 33,
      "outputs": []
    },
    {
      "cell_type": "code",
      "source": [
        "#!cd saved_models/"
      ],
      "metadata": {
        "id": "rGzQMnKSpy5O"
      },
      "execution_count": 34,
      "outputs": []
    },
    {
      "cell_type": "code",
      "source": [
        "#model.save('multi_CNN_batch50_65_45.keras')"
      ],
      "metadata": {
        "id": "LE2NS4Iap1-b"
      },
      "execution_count": 35,
      "outputs": []
    },
    {
      "cell_type": "code",
      "source": [
        "#model.save('multi_CNN_batch50_58_44.keras')"
      ],
      "metadata": {
        "id": "Hsin0weMwi-V"
      },
      "execution_count": 36,
      "outputs": []
    },
    {
      "cell_type": "code",
      "source": [
        "from google.colab import drive"
      ],
      "metadata": {
        "id": "ir0_2-qxWiQt"
      },
      "execution_count": 20,
      "outputs": []
    },
    {
      "cell_type": "code",
      "source": [
        "drive.mount('/content/drive')"
      ],
      "metadata": {
        "colab": {
          "base_uri": "https://localhost:8080/"
        },
        "id": "bhsuOSysWwBR",
        "outputId": "9e48a5a6-b447-44f7-e027-efa7dd274925"
      },
      "execution_count": 21,
      "outputs": [
        {
          "output_type": "stream",
          "name": "stdout",
          "text": [
            "Mounted at /content/drive\n"
          ]
        }
      ]
    },
    {
      "cell_type": "code",
      "source": [
        "#model.save('/content/drive/My Drive/Saved Models/pre_fine_tuning_VGG_transfer.keras')"
      ],
      "metadata": {
        "id": "nPmqRG25Meve"
      },
      "execution_count": 48,
      "outputs": []
    },
    {
      "cell_type": "code",
      "source": [
        "#model.save('/content/drive/My Drive/Saved Models/pre_fine_tuning_VGG_transfer_batch200_83_68.keras')"
      ],
      "metadata": {
        "id": "i1gqvqG18zVt"
      },
      "execution_count": 54,
      "outputs": []
    },
    {
      "cell_type": "code",
      "source": [
        "#!ls"
      ],
      "metadata": {
        "colab": {
          "base_uri": "https://localhost:8080/"
        },
        "id": "HTh8CtPbWEZS",
        "outputId": "409d3412-eaed-4a32-a6f8-2ceb64b57743"
      },
      "execution_count": 41,
      "outputs": [
        {
          "output_type": "stream",
          "name": "stdout",
          "text": [
            "pre_fine_tuning_VGG_transfer.keras  sample_data\n"
          ]
        }
      ]
    },
    {
      "cell_type": "code",
      "source": [
        "model = tf.keras.models.load_model('/content/drive/My Drive/Saved Models/pre_fine_tuning_VGG_transfer.keras')"
      ],
      "metadata": {
        "id": "-Jj7x9dt2oBz"
      },
      "execution_count": 22,
      "outputs": []
    },
    {
      "cell_type": "code",
      "source": [
        "model.trainable = True"
      ],
      "metadata": {
        "id": "xFbD5SygOvHP"
      },
      "execution_count": 56,
      "outputs": []
    },
    {
      "cell_type": "code",
      "source": [
        "model.summary(show_trainable=True)"
      ],
      "metadata": {
        "colab": {
          "base_uri": "https://localhost:8080/"
        },
        "id": "IT7eHUmpO2WB",
        "outputId": "23e18556-cb69-4adb-bd10-0b2408b4950c"
      },
      "execution_count": 57,
      "outputs": [
        {
          "output_type": "stream",
          "name": "stdout",
          "text": [
            "Model: \"model_1\"\n",
            "____________________________________________________________________________\n",
            " Layer (type)                Output Shape              Param #   Trainable  \n",
            "============================================================================\n",
            " input_2 (InputLayer)        [(None, 32, 32, 3)]       0         Y          \n",
            "                                                                            \n",
            " vgg16 (Functional)          (None, 1, 1, 512)         1471468   Y          \n",
            "                                                       8                    \n",
            "                                                                            \n",
            " dense_4 (Dense)             (None, 1, 1, 2048)        1050624   Y          \n",
            "                                                                            \n",
            " dropout_2 (Dropout)         (None, 1, 1, 2048)        0         Y          \n",
            "                                                                            \n",
            " dense_5 (Dense)             (None, 1, 1, 2048)        4196352   Y          \n",
            "                                                                            \n",
            " dropout_3 (Dropout)         (None, 1, 1, 2048)        0         Y          \n",
            "                                                                            \n",
            " dense_6 (Dense)             (None, 1, 1, 1024)        2098176   Y          \n",
            "                                                                            \n",
            " dense_7 (Dense)             (None, 1, 1, 10)          10250     Y          \n",
            "                                                                            \n",
            "============================================================================\n",
            "Total params: 22070090 (84.19 MB)\n",
            "Trainable params: 22070090 (84.19 MB)\n",
            "Non-trainable params: 0 (0.00 Byte)\n",
            "____________________________________________________________________________\n"
          ]
        }
      ]
    },
    {
      "cell_type": "code",
      "source": [
        "opt = keras.optimizers.Adam(learning_rate=1e-5)# high learning rate - default\n",
        "model.compile(optimizer=opt,\n",
        "              loss=tf.keras.losses.CategoricalCrossentropy(),\n",
        "              metrics=['accuracy'])"
      ],
      "metadata": {
        "id": "8ZGlqgdWXgoO"
      },
      "execution_count": 58,
      "outputs": []
    },
    {
      "cell_type": "code",
      "source": [
        "history_2 = model.fit(train_dataset_batched, epochs=100, batch_size=BATCH_SIZE, validation_data= test_dataset_batched, callbacks = [earlystopping])"
      ],
      "metadata": {
        "colab": {
          "base_uri": "https://localhost:8080/"
        },
        "id": "6q-ZcpuJU_Hr",
        "outputId": "49e05491-e299-43db-b45f-69d6aaa010a7"
      },
      "execution_count": 59,
      "outputs": [
        {
          "output_type": "stream",
          "name": "stdout",
          "text": [
            "Epoch 1/100\n",
            "250/250 [==============================] - 31s 92ms/step - loss: 0.6081 - accuracy: 0.7846 - val_loss: 0.7724 - val_accuracy: 0.7448\n",
            "Epoch 2/100\n",
            "250/250 [==============================] - 23s 92ms/step - loss: 0.5061 - accuracy: 0.8218 - val_loss: 0.7338 - val_accuracy: 0.7604\n",
            "Epoch 3/100\n",
            "250/250 [==============================] - 23s 92ms/step - loss: 0.4367 - accuracy: 0.8444 - val_loss: 0.7135 - val_accuracy: 0.7634\n",
            "Epoch 4/100\n",
            "250/250 [==============================] - 23s 93ms/step - loss: 0.3811 - accuracy: 0.8627 - val_loss: 0.7069 - val_accuracy: 0.7742\n",
            "Epoch 5/100\n",
            "250/250 [==============================] - 23s 92ms/step - loss: 0.3373 - accuracy: 0.8784 - val_loss: 0.7036 - val_accuracy: 0.7804\n",
            "Epoch 6/100\n",
            "250/250 [==============================] - 23s 91ms/step - loss: 0.3010 - accuracy: 0.8929 - val_loss: 0.7174 - val_accuracy: 0.7817\n",
            "Epoch 7/100\n",
            "250/250 [==============================] - 23s 92ms/step - loss: 0.2696 - accuracy: 0.9027 - val_loss: 0.7078 - val_accuracy: 0.7838\n",
            "Epoch 8/100\n",
            "250/250 [==============================] - 23s 93ms/step - loss: 0.2407 - accuracy: 0.9132 - val_loss: 0.7081 - val_accuracy: 0.7872\n",
            "Epoch 9/100\n",
            "250/250 [==============================] - 24s 94ms/step - loss: 0.2144 - accuracy: 0.9227 - val_loss: 0.7286 - val_accuracy: 0.7903\n",
            "Epoch 10/100\n",
            "250/250 [==============================] - 23s 93ms/step - loss: 0.1917 - accuracy: 0.9307 - val_loss: 0.7463 - val_accuracy: 0.7879\n",
            "Epoch 11/100\n",
            "250/250 [==============================] - 23s 94ms/step - loss: 0.1745 - accuracy: 0.9361 - val_loss: 0.7524 - val_accuracy: 0.7930\n",
            "Epoch 12/100\n",
            "250/250 [==============================] - 24s 94ms/step - loss: 0.1607 - accuracy: 0.9416 - val_loss: 0.7602 - val_accuracy: 0.7985\n",
            "Epoch 13/100\n",
            "250/250 [==============================] - 24s 94ms/step - loss: 0.1412 - accuracy: 0.9489 - val_loss: 0.7550 - val_accuracy: 0.7989\n",
            "Epoch 14/100\n",
            "250/250 [==============================] - 24s 94ms/step - loss: 0.1337 - accuracy: 0.9522 - val_loss: 0.7647 - val_accuracy: 0.8027\n",
            "Epoch 15/100\n",
            "250/250 [==============================] - 23s 94ms/step - loss: 0.1236 - accuracy: 0.9557 - val_loss: 0.7938 - val_accuracy: 0.8034\n"
          ]
        }
      ]
    },
    {
      "cell_type": "code",
      "source": [
        "model.save('/content/drive/My Drive/Saved Models/post_fine_tuning_VGG_transfer_CIFAR10_batch_200_9557_8034.keras')"
      ],
      "metadata": {
        "id": "4_p87r44cCzu"
      },
      "execution_count": 60,
      "outputs": []
    },
    {
      "cell_type": "code",
      "source": [
        "plt.plot(history_2.history['accuracy'], label='accuracy')\n",
        "plt.plot(history_2.history['val_accuracy'], label = 'val_accuracy')\n",
        "plt.xlabel('Epoch')\n",
        "plt.ylabel('Accuracy')\n",
        "#plt.ylim([0.5, 1])\n",
        "plt.legend(loc='lower right')\n",
        "\n",
        "test_loss, test_acc = model.evaluate(test_dataset_batched, verbose=2)\n",
        "print(test_acc*100)"
      ],
      "metadata": {
        "colab": {
          "base_uri": "https://localhost:8080/",
          "height": 484
        },
        "id": "FDnyc72UdtaH",
        "outputId": "d0ca287d-461f-45a4-dc1e-ad3eea6eaf3a"
      },
      "execution_count": 61,
      "outputs": [
        {
          "output_type": "stream",
          "name": "stdout",
          "text": [
            "50/50 - 1s - loss: 0.7036 - accuracy: 0.7804 - 1s/epoch - 23ms/step\n",
            "78.03999781608582\n"
          ]
        },
        {
          "output_type": "display_data",
          "data": {
            "text/plain": [
              "<Figure size 640x480 with 1 Axes>"
            ],
            "image/png": "[encoded data removed]"
          },
          "metadata": {}
        }
      ]
    }
  ],
  "metadata": {
    "accelerator": "GPU",
    "colab": {
      "provenance": [],
      "gpuType": "T4"
    },
    "kernelspec": {
      "display_name": "Python 3",
      "name": "python3"
    },
    "language_info": {
      "codemirror_mode": {
        "name": "ipython",
        "version": 3
      },
      "file_extension": ".py",
      "mimetype": "text/x-python",
      "name": "python",
      "nbconvert_exporter": "python",
      "pygments_lexer": "ipython3",
      "version": "3.9.13"
    }
  },
  "nbformat": 4,
  "nbformat_minor": 0
}